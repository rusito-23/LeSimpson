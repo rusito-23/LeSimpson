{
 "cells": [
  {
   "cell_type": "markdown",
   "metadata": {},
   "source": [
    "# Prediction test"
   ]
  },
  {
   "cell_type": "code",
   "execution_count": 1,
   "metadata": {},
   "outputs": [
    {
     "name": "stderr",
     "output_type": "stream",
     "text": [
      "Using TensorFlow backend.\n"
     ]
    }
   ],
   "source": [
    "import keras\n",
    "import cv2\n",
    "import matplotlib.pyplot as plt\n",
    "import numpy as np"
   ]
  },
  {
   "cell_type": "code",
   "execution_count": 5,
   "metadata": {},
   "outputs": [
    {
     "name": "stdout",
     "output_type": "stream",
     "text": [
      "/Users/igor/ML/LeSimpson/server\n",
      "/Users/igor/ML/LeSimpson/server/notebooks\n"
     ]
    }
   ],
   "source": [
    "import os\n",
    "import sys\n",
    "\n",
    "%cd ..\n",
    "source_path = os.getcwd() + '/source'\n",
    "if not source_path in sys.path:\n",
    "    sys.path.append(source_path)\n",
    "%cd notebooks"
   ]
  },
  {
   "cell_type": "code",
   "execution_count": 9,
   "metadata": {},
   "outputs": [],
   "source": [
    "from utils.constants import IMSIZE\n",
    "import dataset.dataviz as dv"
   ]
  },
  {
   "cell_type": "markdown",
   "metadata": {},
   "source": [
    "## Load model"
   ]
  },
  {
   "cell_type": "code",
   "execution_count": 57,
   "metadata": {},
   "outputs": [],
   "source": [
    "model = keras.models.load_model('../model/lesimpson.h5')"
   ]
  },
  {
   "cell_type": "code",
   "execution_count": 3,
   "metadata": {},
   "outputs": [],
   "source": [
    "labels = [\n",
    "    'maggie_simpson',\n",
    "    'charles_montgomery_burns',\n",
    "    'patty_bouvier',\n",
    "    'ralph_wiggum',\n",
    "    'chief_wiggum',\n",
    "    'milhouse_van_houten',\n",
    "    'martin_prince',\n",
    "    'lenny_leonard',\n",
    "    'sideshow_bob',\n",
    "    'selma_bouvier',\n",
    "    'barney_gumble',\n",
    "    'moe_szyslak', \n",
    "    'carl_carlson',\n",
    "    'edna_krabappel',\n",
    "    'snake_jailbird',\n",
    "    'groundskeeper_willie',\n",
    "    'ned_flanders',\n",
    "    'abraham_grampa_simpson',\n",
    "    'krusty_the_clown',\n",
    "    'waylon_smithers',\n",
    "    'apu_nahasapeemapetilon',\n",
    "    'marge_simpson',\n",
    "    'comic_book_guy',\n",
    "    'nelson_muntz',\n",
    "    'mayor_quimby',\n",
    "    'kent_brockman',\n",
    "    'professor_john_frink', \n",
    "    'principal_skinner', \n",
    "    'bart_simpson',\n",
    "    'lisa_simpson',\n",
    "    'homer_simpson'\n",
    "]"
   ]
  },
  {
   "cell_type": "code",
   "execution_count": 63,
   "metadata": {},
   "outputs": [],
   "source": [
    "_in = cv2.imread('../../../../Pictures/profile.png')\n",
    "_in = cv2.resize(_in, (IMSIZE, IMSIZE))"
   ]
  },
  {
   "cell_type": "code",
   "execution_count": 64,
   "metadata": {},
   "outputs": [
    {
     "data": {
      "image/png": "[encoded data removed]",
      "text/plain": [
       "<Figure size 432x288 with 1 Axes>"
      ]
     },
     "metadata": {
      "needs_background": "light"
     },
     "output_type": "display_data"
    }
   ],
   "source": [
    "dv.implot(_in, 'abraham')"
   ]
  },
  {
   "cell_type": "code",
   "execution_count": 65,
   "metadata": {},
   "outputs": [],
   "source": [
    "out = model.predict(np.array([_in / 255]))"
   ]
  },
  {
   "cell_type": "code",
   "execution_count": 66,
   "metadata": {},
   "outputs": [
    {
     "data": {
      "text/plain": [
       "(1, 31)"
      ]
     },
     "execution_count": 66,
     "metadata": {},
     "output_type": "execute_result"
    }
   ],
   "source": [
    "out.shape"
   ]
  },
  {
   "cell_type": "code",
   "execution_count": 67,
   "metadata": {},
   "outputs": [
    {
     "data": {
      "text/plain": [
       "array([[5.3512753e-04, 4.7519162e-02, 2.1656467e-04, 2.1977665e-02,\n",
       "        1.3479921e-01, 1.6444268e-03, 1.2762318e-03, 6.6436696e-05,\n",
       "        5.8514890e-03, 5.2234036e-04, 5.1260255e-03, 1.5324213e-03,\n",
       "        1.5319228e-01, 1.1179948e-03, 5.3418861e-03, 9.2783608e-02,\n",
       "        1.0397334e-03, 7.8943733e-04, 1.7601708e-01, 2.2699472e-03,\n",
       "        9.6840262e-02, 7.5822562e-04, 6.7670206e-03, 1.9313611e-02,\n",
       "        1.8043125e-03, 1.4049977e-03, 4.1793167e-04, 2.0297481e-01,\n",
       "        7.7009510e-04, 1.3188249e-03, 1.4010859e-02]], dtype=float32)"
      ]
     },
     "execution_count": 67,
     "metadata": {},
     "output_type": "execute_result"
    }
   ],
   "source": [
    "out"
   ]
  },
  {
   "cell_type": "code",
   "execution_count": 68,
   "metadata": {},
   "outputs": [
    {
     "data": {
      "text/plain": [
       "27"
      ]
     },
     "execution_count": 68,
     "metadata": {},
     "output_type": "execute_result"
    }
   ],
   "source": [
    "pred = np.argmax(out)\n",
    "pred"
   ]
  },
  {
   "cell_type": "code",
   "execution_count": 69,
   "metadata": {},
   "outputs": [
    {
     "data": {
      "text/plain": [
       "'principal_skinner'"
      ]
     },
     "execution_count": 69,
     "metadata": {},
     "output_type": "execute_result"
    }
   ],
   "source": [
    "labels[pred]"
   ]
  }
 ],
 "metadata": {
  "kernelspec": {
   "display_name": "Python 3",
   "language": "python",
   "name": "python3"
  },
  "language_info": {
   "codemirror_mode": {
    "name": "ipython",
    "version": 3
   },
   "file_extension": ".py",
   "mimetype": "text/x-python",
   "name": "python",
   "nbconvert_exporter": "python",
   "pygments_lexer": "ipython3",
   "version": "3.7.5"
  }
 },
 "nbformat": 4,
 "nbformat_minor": 4
}
