{
 "cells": [
  {
   "cell_type": "markdown",
   "metadata": {},
   "source": [
    "# ONNX Conversion"
   ]
  },
  {
   "cell_type": "code",
   "execution_count": 1,
   "metadata": {},
   "outputs": [],
   "source": [
    "keras_model_f = '../model/lesimpson.h5'\n",
    "onnx_model_f = '../model/lesimpson.onnx'"
   ]
  },
  {
   "cell_type": "code",
   "execution_count": 3,
   "metadata": {},
   "outputs": [],
   "source": [
    "import onnx\n",
    "import onnxruntime\n",
    "import keras2onnx\n",
    "import keras\n",
    "import cv2\n",
    "import matplotlib.pyplot as plt\n",
    "import numpy as np"
   ]
  },
  {
   "cell_type": "code",
   "execution_count": 4,
   "metadata": {},
   "outputs": [
    {
     "name": "stdout",
     "output_type": "stream",
     "text": [
      "WARNING:tensorflow:From /Users/igor/.virtualenvs/lesimpson/lib/python3.7/site-packages/tensorflow_core/python/ops/resource_variable_ops.py:1630: calling BaseResourceVariable.__init__ (from tensorflow.python.ops.resource_variable_ops) with constraint is deprecated and will be removed in a future version.\n",
      "Instructions for updating:\n",
      "If using Keras pass *_constraint arguments to layers.\n",
      "WARNING:tensorflow:From /Users/igor/.virtualenvs/lesimpson/lib/python3.7/site-packages/keras/backend/tensorflow_backend.py:4070: The name tf.nn.max_pool is deprecated. Please use tf.nn.max_pool2d instead.\n",
      "\n",
      "WARNING:tensorflow:From /Users/igor/.virtualenvs/lesimpson/lib/python3.7/site-packages/keras/backend/tensorflow_backend.py:422: The name tf.global_variables is deprecated. Please use tf.compat.v1.global_variables instead.\n",
      "\n"
     ]
    }
   ],
   "source": [
    "keras_model = keras.models.load_model(keras_model_f)"
   ]
  },
  {
   "cell_type": "code",
   "execution_count": 13,
   "metadata": {},
   "outputs": [],
   "source": [
    "labels = [\n",
    "    'maggie_simpson',\n",
    "    'charles_montgomery_burns',\n",
    "    'patty_bouvier',\n",
    "    'ralph_wiggum',\n",
    "    'chief_wiggum',\n",
    "    'milhouse_van_houten',\n",
    "    'martin_prince',\n",
    "    'lenny_leonard',\n",
    "    'sideshow_bob',\n",
    "    'selma_bouvier',\n",
    "    'barney_gumble',\n",
    "    'moe_szyslak', \n",
    "    'carl_carlson',\n",
    "    'edna_krabappel',\n",
    "    'snake_jailbird',\n",
    "    'groundskeeper_willie',\n",
    "    'ned_flanders',\n",
    "    'abraham_grampa_simpson',\n",
    "    'krusty_the_clown',\n",
    "    'waylon_smithers',\n",
    "    'apu_nahasapeemapetilon',\n",
    "    'marge_simpson',\n",
    "    'comic_book_guy',\n",
    "    'nelson_muntz',\n",
    "    'mayor_quimby',\n",
    "    'kent_brockman',\n",
    "    'professor_john_frink', \n",
    "    'principal_skinner', \n",
    "    'bart_simpson',\n",
    "    'lisa_simpson',\n",
    "    'homer_simpson'\n",
    "]"
   ]
  },
  {
   "cell_type": "code",
   "execution_count": 5,
   "metadata": {},
   "outputs": [],
   "source": [
    "onnx_model = keras2onnx.convert_keras(keras_model, 'lesimpson')\n",
    "\n",
    "onnx.save_model(onnx_model, onnx_model_f)"
   ]
  },
  {
   "cell_type": "markdown",
   "metadata": {},
   "source": [
    "## Load ONNX Model"
   ]
  },
  {
   "cell_type": "code",
   "execution_count": 8,
   "metadata": {},
   "outputs": [],
   "source": [
    "sess = onnxruntime.InferenceSession(onnx_model_f)"
   ]
  },
  {
   "cell_type": "code",
   "execution_count": 9,
   "metadata": {},
   "outputs": [
    {
     "data": {
      "text/plain": [
       "('conv2d_9_input', ['N', 50, 50, 3], 'activation_21', ['N', 31])"
      ]
     },
     "execution_count": 9,
     "metadata": {},
     "output_type": "execute_result"
    }
   ],
   "source": [
    "_in = sess.get_inputs()[0]\n",
    "_out = sess.get_outputs()[0]\n",
    "\n",
    "_in.name, _in.shape, _out.name, _out.shape"
   ]
  },
  {
   "cell_type": "markdown",
   "metadata": {},
   "source": [
    "### Load test image"
   ]
  },
  {
   "cell_type": "code",
   "execution_count": 10,
   "metadata": {},
   "outputs": [],
   "source": [
    "test_im = cv2.imread('../the-simpsons-characters-dataset/kaggle_simpson_testset/kaggle_simpson_testset/bart_simpson_0.jpg')\n",
    "test_im = cv2.resize(test_im, (50, 50))"
   ]
  },
  {
   "cell_type": "code",
   "execution_count": 11,
   "metadata": {},
   "outputs": [
    {
     "data": {
      "image/png": "[encoded data removed]",
      "text/plain": [
       "<Figure size 432x288 with 1 Axes>"
      ]
     },
     "metadata": {
      "needs_background": "light"
     },
     "output_type": "display_data"
    }
   ],
   "source": [
    "plt.imshow(test_im)\n",
    "plt.show()"
   ]
  },
  {
   "cell_type": "markdown",
   "metadata": {},
   "source": [
    "### Predict image with onnx sess"
   ]
  },
  {
   "cell_type": "code",
   "execution_count": 18,
   "metadata": {},
   "outputs": [],
   "source": [
    "test_im = test_im / 255\n",
    "\n",
    "out = sess.run([_out.name], {_in.name: np.array([test_im.astype(np.float32)])})[0]"
   ]
  },
  {
   "cell_type": "code",
   "execution_count": 19,
   "metadata": {},
   "outputs": [
    {
     "data": {
      "text/plain": [
       "'bart_simpson'"
      ]
     },
     "execution_count": 19,
     "metadata": {},
     "output_type": "execute_result"
    }
   ],
   "source": [
    "pred = np.argmax(out)\n",
    "\n",
    "labels[pred]"
   ]
  }
 ],
 "metadata": {
  "kernelspec": {
   "display_name": "Python 3",
   "language": "python",
   "name": "python3"
  },
  "language_info": {
   "codemirror_mode": {
    "name": "ipython",
    "version": 3
   },
   "file_extension": ".py",
   "mimetype": "text/x-python",
   "name": "python",
   "nbconvert_exporter": "python",
   "pygments_lexer": "ipython3",
   "version": "3.7.5"
  }
 },
 "nbformat": 4,
 "nbformat_minor": 4
}
