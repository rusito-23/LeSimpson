{
 "cells": [
  {
   "cell_type": "markdown",
   "metadata": {},
   "source": [
    "## Preprocess the data"
   ]
  },
  {
   "cell_type": "code",
   "execution_count": null,
   "metadata": {},
   "outputs": [],
   "source": [
    "# Imports\n",
    "\n",
    "import os\n",
    "import numpy as np\n",
    "import cv2"
   ]
  },
  {
   "cell_type": "code",
   "execution_count": null,
   "metadata": {},
   "outputs": [],
   "source": [
    "# Constants\n",
    "\n",
    "IMG_SIZE = 50\n",
    "BASE_PATH = 'the-simpsons-characters-dataset/'\n",
    "DATASET_PATH = BASE_PATH + 'simpsons_dataset/'\n",
    "TESTSET_PATH = BASE_PATH + 'kaggle_simpson_testset/kaggle_simpson_testset/'"
   ]
  },
  {
   "cell_type": "markdown",
   "metadata": {},
   "source": [
    "### Download TestSet (if necessary)"
   ]
  },
  {
   "cell_type": "code",
   "execution_count": null,
   "metadata": {},
   "outputs": [],
   "source": [
    "if not (os.path.isdir(BASE_PATH)):\n",
    "    from kaggle.api.kaggle_api_extended import KaggleApi\n",
    "    \n",
    "    api = KaggleApi()\n",
    "    api.authenticate()\n",
    "    api.dataset_download_files(\"alexattia/the-simpsons-characters-dataset\")\n",
    "    \n",
    "    !!unzip the-simpsons-characters-dataset.zip -d the-simpsons-characters-dataset\n",
    "    "
   ]
  },
  {
   "cell_type": "code",
   "execution_count": null,
   "metadata": {},
   "outputs": [],
   "source": [
    "LABELS = os.listdir(DATASET_PATH)"
   ]
  },
  {
   "cell_type": "markdown",
   "metadata": {},
   "source": [
    "### Load Dataset"
   ]
  },
  {
   "cell_type": "code",
   "execution_count": null,
   "metadata": {},
   "outputs": [],
   "source": [
    "# Load train images and LABELS Functions\n",
    "\n",
    "def load_data():   \n",
    "    train_images = []\n",
    "    train_labels = []\n",
    "\n",
    "    for label in LABELS:\n",
    "        label_folder = os.path.join(DATASET_PATH, label)\n",
    "        \n",
    "        if len(os.listdir(label_folder)) < 100:\n",
    "            print(\"[WARNING]: {} has only {} images\".format(label, len(os.listdir(label_folder))))\n",
    "            LABELS.remove(label)\n",
    "            continue\n",
    "        \n",
    "        for _image in os.listdir(label_folder):\n",
    "            _image_path = os.path.join(label_folder, _image)\n",
    "            img = cv2.imread(_image_path, cv2.IMREAD_GRAYSCALE)\n",
    "            img = cv2.resize(img, (IMG_SIZE, IMG_SIZE))\n",
    "            \n",
    "            train_images.append(img)\n",
    "            train_labels.append(LABELS.index(label))\n",
    "    \n",
    "    return np.array(train_images, dtype=np.float64), np.array(train_labels)"
   ]
  },
  {
   "cell_type": "code",
   "execution_count": null,
   "metadata": {},
   "outputs": [],
   "source": [
    "# Load data\n",
    "\n",
    "train_images, train_labels = load_data()\n",
    "        \n",
    "print(train_images.shape)\n",
    "print(LABELS)"
   ]
  },
  {
   "cell_type": "code",
   "execution_count": null,
   "metadata": {},
   "outputs": [],
   "source": [
    "# Random Shuffle Train Images and LABELS (in unison)\n",
    "\n",
    "s = np.random.permutation(len(train_labels))\n",
    "np.random.shuffle(s)\n",
    "\n",
    "train_images = train_images[s]\n",
    "train_labels = train_labels[s]"
   ]
  },
  {
   "cell_type": "code",
   "execution_count": null,
   "metadata": {},
   "outputs": [],
   "source": [
    "print(train_images.shape)"
   ]
  },
  {
   "cell_type": "markdown",
   "metadata": {},
   "source": [
    "### Test Loaded Dataset"
   ]
  },
  {
   "cell_type": "code",
   "execution_count": null,
   "metadata": {},
   "outputs": [],
   "source": [
    "import matplotlib.pyplot as plt"
   ]
  },
  {
   "cell_type": "code",
   "execution_count": null,
   "metadata": {},
   "outputs": [],
   "source": [
    "# Plot Image Function\n",
    "\n",
    "def plot_img_label(img, label):\n",
    "    plt.subplot(5,5,i+1)\n",
    "    plt.xticks([])\n",
    "    plt.yticks([])\n",
    "    plt.grid(False)\n",
    "    plt.imshow(img, cmap=plt.cm.binary)\n",
    "    plt.xlabel(label)\n",
    "    \n",
    "def plot_img_colorbar(img):\n",
    "    plt.imshow(img)\n",
    "    plt.colorbar()\n",
    "    plt.grid(False)\n"
   ]
  },
  {
   "cell_type": "code",
   "execution_count": null,
   "metadata": {},
   "outputs": [],
   "source": [
    "plt.figure(figsize = (3, 3))\n",
    "plot_img_colorbar(train_images[0])\n",
    "plt.show()"
   ]
  },
  {
   "cell_type": "code",
   "execution_count": null,
   "metadata": {},
   "outputs": [],
   "source": [
    "plt.figure(figsize = (10, 10))\n",
    "for i in range(25):\n",
    "    plot_img_label(train_images[i], LABELS[train_labels[i]])\n",
    "plt.show()"
   ]
  },
  {
   "cell_type": "markdown",
   "metadata": {},
   "source": [
    "### Load TestSet"
   ]
  },
  {
   "cell_type": "code",
   "execution_count": null,
   "metadata": {},
   "outputs": [],
   "source": [
    "\n",
    "def load_testset(path):\n",
    "    test_images, test_labels = [], []\n",
    "    \n",
    "    for _file in os.listdir(path):\n",
    "        \n",
    "        # get label\n",
    "        label = _file.split('.')[0].split('_')[:-1]\n",
    "        label = '_'.join(label)\n",
    "        \n",
    "        # get image\n",
    "        _image_path = os.path.join(path, _file)\n",
    "        img = cv2.imread(_image_path, cv2.IMREAD_GRAYSCALE)\n",
    "        try:\n",
    "            img = cv2.resize(img, (IMG_SIZE, IMG_SIZE))\n",
    "        except:\n",
    "            print(\"Error while resizing image\")\n",
    "            continue\n",
    "            \n",
    "        if not label in LABELS:\n",
    "            print(\"Error - label not found\")\n",
    "            continue\n",
    "\n",
    "        test_images.append(np.array(img))\n",
    "        test_labels.append(LABELS.index(label))\n",
    "        \n",
    "    return np.array(test_images, dtype=np.float64), np.array(test_labels)"
   ]
  },
  {
   "cell_type": "code",
   "execution_count": null,
   "metadata": {},
   "outputs": [],
   "source": [
    "\n",
    "test_images, test_labels = load_testset(TESTSET_PATH)\n",
    "\n",
    "print(test_images.shape)"
   ]
  },
  {
   "cell_type": "markdown",
   "metadata": {},
   "source": [
    "## Build the model"
   ]
  },
  {
   "cell_type": "code",
   "execution_count": null,
   "metadata": {},
   "outputs": [],
   "source": [
    "# TensorFlow and tf.keras\n",
    "import tensorflow\n",
    "from tensorflow import keras"
   ]
  },
  {
   "cell_type": "code",
   "execution_count": null,
   "metadata": {},
   "outputs": [],
   "source": [
    "model = keras.Sequential([\n",
    "    keras.layers.BatchNormalization(axis=-1, momentum=0.99, epsilon=0.001, center=True, scale=True, beta_initializer='zeros', gamma_initializer='ones', moving_mean_initializer='zeros', moving_variance_initializer='ones', beta_regularizer=None, gamma_regularizer=None, beta_constraint=None, gamma_constraint=None),\n",
    "    keras.layers.Flatten(input_shape=(IMG_SIZE, IMG_SIZE)),\n",
    "    keras.layers.Dense(128, activation='relu'),\n",
    "    keras.layers.Dense(len(LABELS), activation='softmax')\n",
    "])"
   ]
  },
  {
   "cell_type": "code",
   "execution_count": null,
   "metadata": {},
   "outputs": [],
   "source": [
    "model.compile(\n",
    "    optimizer='adam',\n",
    "    loss='sparse_categorical_crossentropy',\n",
    "    metrics=['accuracy'])"
   ]
  },
  {
   "cell_type": "code",
   "execution_count": null,
   "metadata": {},
   "outputs": [],
   "source": [
    "model.fit(train_images, train_labels, epochs=10)"
   ]
  },
  {
   "cell_type": "markdown",
   "metadata": {},
   "source": [
    "# Test the model"
   ]
  },
  {
   "cell_type": "markdown",
   "metadata": {},
   "source": [
    "## Predict TestSet"
   ]
  },
  {
   "cell_type": "code",
   "execution_count": null,
   "metadata": {},
   "outputs": [],
   "source": [
    "predictions = model.predict(test_images)"
   ]
  },
  {
   "cell_type": "code",
   "execution_count": null,
   "metadata": {},
   "outputs": [],
   "source": [
    "\n",
    "for i in range(25):\n",
    "    pred = LABELS[np.argmax(predictions[i])]\n",
    "    exp = LABELS[test_labels[i]]\n",
    "    plt.figure(figsize=(12, 12))\n",
    "    plot_img_label(test_images[i], \"pred: {} - exp: {}\".format(pred, exp))\n",
    "    plt.show()"
   ]
  },
  {
   "cell_type": "code",
   "execution_count": null,
   "metadata": {},
   "outputs": [],
   "source": [
    "wrong = 0\n",
    "\n",
    "for i in range(len(predictions)):\n",
    "    pred = LABELS[np.argmax(predictions[i])]\n",
    "    exp = LABELS[test_labels[i]]\n",
    "    \n",
    "    if pred != exp:\n",
    "        wrong += 1\n",
    "\n",
    "print(\"Wrong predictions -> {}\".format(wrong))\n",
    "\n",
    "print(\"Test accuracy -> {}\".format(1 - wrong/len(predictions)))"
   ]
  },
  {
   "cell_type": "markdown",
   "metadata": {},
   "source": [
    "## Train analisis"
   ]
  },
  {
   "cell_type": "markdown",
   "metadata": {},
   "source": [
    "### Check which images had the worst results"
   ]
  },
  {
   "cell_type": "code",
   "execution_count": null,
   "metadata": {},
   "outputs": [],
   "source": [
    "# Analize errors per label\n",
    "\n",
    "label_error = [0 for x in LABELS]\n",
    "\n",
    "for i in range(len(predictions)):\n",
    "    pred = LABELS[np.argmax(predictions[i])]\n",
    "    exp = LABELS[test_labels[i]]\n",
    "    \n",
    "    if pred != exp:\n",
    "        label_error[np.argmax(predictions[i])] += 1\n",
    "        \n",
    "print(label_error)"
   ]
  },
  {
   "cell_type": "code",
   "execution_count": null,
   "metadata": {},
   "outputs": [],
   "source": [
    "# Convert label_error into pandas dataframe\n",
    "\n",
    "import pandas as pd\n",
    "\n",
    "df = pd.DataFrame(label_error, columns=['Error percentage'])\n",
    "df.index = LABELS\n",
    "df['Error percentage'] = df['Error percentage'] / len(test_images)\n",
    "df\n",
    "\n",
    "# Clear if Error is 0\n",
    "df = df.replace(0, np.nan)\n",
    "df = df.dropna()\n",
    "\n",
    "df.plot(kind='bar')\n",
    "df"
   ]
  }
 ],
 "metadata": {
  "kernelspec": {
   "display_name": "Python 3",
   "language": "python",
   "name": "python3"
  },
  "language_info": {
   "codemirror_mode": {
    "name": "ipython",
    "version": 3
   },
   "file_extension": ".py",
   "mimetype": "text/x-python",
   "name": "python",
   "nbconvert_exporter": "python",
   "pygments_lexer": "ipython3",
   "version": "3.7.5"
  }
 },
 "nbformat": 4,
 "nbformat_minor": 2
}
