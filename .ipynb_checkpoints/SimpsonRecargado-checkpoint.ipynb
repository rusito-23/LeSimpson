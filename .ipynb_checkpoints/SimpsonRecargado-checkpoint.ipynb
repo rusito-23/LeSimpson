{
 "cells": [
  {
   "cell_type": "markdown",
   "metadata": {},
   "source": [
    "# LeSimpson"
   ]
  },
  {
   "cell_type": "markdown",
   "metadata": {},
   "source": [
    "## Intro\n",
    "\n",
    "This proyect aims to train a CNN model for image prediction on Simpsons Characters.\n",
    "Steps to reproduce the notebook:\n",
    "\n",
    "- Download requirements: `pip install -r requirements`\n",
    "- Set Kaggle account in `~/.kaggle/kaggle.json`\n",
    "- Start notebook: `jupyter notebook LeSimpson.ipynb`"
   ]
  },
  {
   "cell_type": "markdown",
   "metadata": {},
   "source": [
    "#### Setup imports and path"
   ]
  },
  {
   "cell_type": "code",
   "execution_count": 1,
   "metadata": {},
   "outputs": [],
   "source": [
    "import os\n",
    "import sys\n",
    "\n",
    "source_path = os.getcwd() + 'source'\n",
    "if not source_path in sys.path:\n",
    "    sys.path.append(source_path)\n"
   ]
  },
  {
   "cell_type": "code",
   "execution_count": 2,
   "metadata": {},
   "outputs": [],
   "source": [
    "# LOCALS\n",
    "from source.constants import *\n",
    "import source.dataviz as dv\n",
    "import source.dataset_utils as dsu\n",
    "import source.stats as st"
   ]
  },
  {
   "cell_type": "markdown",
   "metadata": {},
   "source": [
    "## Load and Pre-Process Dataset\n",
    "\n",
    "First, we need to load the dataset from Kaggle. Then we need to clean a little bit this images, some of the labels do not have enough data to train our model, others have too many and we need to train our model with a nice data quality."
   ]
  },
  {
   "cell_type": "markdown",
   "metadata": {},
   "source": [
    "### Download and unzip Dataset (if necessary)"
   ]
  },
  {
   "cell_type": "code",
   "execution_count": 3,
   "metadata": {},
   "outputs": [],
   "source": [
    "if not (os.path.isdir(DATASET_PATH)):\n",
    "    from kaggle.api.kaggle_api_extended import KaggleApi\n",
    "    \n",
    "    api = KaggleApi()\n",
    "    api.authenticate()\n",
    "    api.dataset_download_files(\"alexattia/the-simpsons-characters-dataset\")\n",
    "    \n",
    "    !!unzip the-simpsons-characters-dataset.zip -d the-simpsons-characters-dataset"
   ]
  },
  {
   "cell_type": "markdown",
   "metadata": {},
   "source": [
    "### Define labels"
   ]
  },
  {
   "cell_type": "code",
   "execution_count": 4,
   "metadata": {},
   "outputs": [
    {
     "name": "stdout",
     "output_type": "stream",
     "text": [
      "['maggie_simpson', 'charles_montgomery_burns', 'patty_bouvier', 'ralph_wiggum', 'chief_wiggum', 'milhouse_van_houten', 'rainier_wolfcastle', 'cletus_spuckler', 'martin_prince', 'lenny_leonard', 'sideshow_bob', 'fat_tony', 'selma_bouvier', 'barney_gumble', 'lionel_hutz', 'gil', 'moe_szyslak', 'carl_carlson', 'edna_krabappel', 'snake_jailbird', 'groundskeeper_willie', 'sideshow_mel', 'ned_flanders', 'abraham_grampa_simpson', 'krusty_the_clown', 'waylon_smithers', 'apu_nahasapeemapetilon', 'marge_simpson', 'comic_book_guy', 'nelson_muntz', 'mayor_quimby', 'kent_brockman', 'professor_john_frink', 'principal_skinner', 'bart_simpson', 'lisa_simpson', 'otto_mann', 'troy_mcclure', 'miss_hoover', 'disco_stu', 'homer_simpson', 'agnes_skinner']\n"
     ]
    }
   ],
   "source": [
    "LABELS = os.listdir(TRAINSET_PATH)\n",
    "LABELS.remove('simpsons_dataset')\n",
    "print(LABELS)"
   ]
  },
  {
   "cell_type": "markdown",
   "metadata": {},
   "source": [
    "### Get stats from our Dataset\n",
    "\n",
    "We need to learn some stats from the Dataset we have, to be able to clean the data and get fresh for the model."
   ]
  },
  {
   "cell_type": "code",
   "execution_count": 5,
   "metadata": {},
   "outputs": [
    {
     "name": "stdout",
     "output_type": "stream",
     "text": [
      "\n",
      "STATS:\n",
      "    [Mean] -> 498.4047619047619\n",
      "    [Std Deviation] -> 570.2569621095977\n",
      "    [Q1] -> 49.0\n",
      "    [Q3] -> 967.75\n",
      "\n"
     ]
    },
    {
     "data": {
      "image/png": "[encoded data removed]",
      "text/plain": [
       "<Figure size 432x288 with 1 Axes>"
      ]
     },
     "metadata": {
      "needs_background": "light"
     },
     "output_type": "display_data"
    }
   ],
   "source": [
    "mean, sd, q1, q3 = st.get_stats(LABELS)"
   ]
  },
  {
   "cell_type": "markdown",
   "metadata": {},
   "source": [
    "### Stats analisis\n",
    "\n",
    "As we can see, we have a very high standard deviation in terms of *image count per label*, this will produce bad results with our data (overfitting for example).\n",
    "\n",
    "In order to clean our dataset and make it more fit for our model, we need to reduce the labels that have too much images, and the ones that don't have enough."
   ]
  },
  {
   "cell_type": "markdown",
   "metadata": {},
   "source": [
    "### Remove extra labels"
   ]
  },
  {
   "cell_type": "markdown",
   "metadata": {},
   "source": [
    "First we need to look at the IQR (interquartile range): Q3 - Q1.\n",
    "\n",
    "With this information we can detect the anomalous labels, those who have below `Q1 - 1.5 * IQR` or above `Q3 + 1.5 * IQR`.\n",
    "\n",
    "Those who have below, will be removed as labels. And from those who have above, we will remove random image labels until we reach an acceptable\n",
    "number."
   ]
  },
  {
   "cell_type": "code",
   "execution_count": 6,
   "metadata": {},
   "outputs": [
    {
     "name": "stdout",
     "output_type": "stream",
     "text": [
      "\n",
      "Q1: 49.0\n",
      "Q3: 967.75\n",
      "IQR: 918.75\n",
      "Low threshold: -1329.125\n",
      "Upper threshold: 2345.875\n",
      "\n"
     ]
    }
   ],
   "source": [
    "iqr = q3 - q1\n",
    "low_threshold = q1 - (1.5 * iqr)\n",
    "upper_threshold = q3 + (1.5 * iqr)\n",
    "\n",
    "print(f\"\"\"\n",
    "Q1: {q1}\n",
    "Q3: {q3}\n",
    "IQR: {iqr}\n",
    "Low threshold: {low_threshold}\n",
    "Upper threshold: {upper_threshold}\n",
    "\"\"\")"
   ]
  },
  {
   "cell_type": "markdown",
   "metadata": {},
   "source": [
    "As we can see, our lower threshold is negative. In order to mantain a simpler data, we will use as thresholds our quantiles directly (Q1 and Q3)."
   ]
  },
  {
   "cell_type": "code",
   "execution_count": 7,
   "metadata": {},
   "outputs": [],
   "source": [
    "low_threshold = q1\n",
    "upper_threshold = q3"
   ]
  },
  {
   "cell_type": "markdown",
   "metadata": {},
   "source": [
    "#### Remove below & above"
   ]
  },
  {
   "cell_type": "code",
   "execution_count": 8,
   "metadata": {},
   "outputs": [
    {
     "name": "stdout",
     "output_type": "stream",
     "text": [
      "removing: rainier_wolfcastle\n",
      "removing: cletus_spuckler\n",
      "removing: fat_tony\n",
      "removing: lionel_hutz\n",
      "removing: gil\n",
      "removing: sideshow_mel\n",
      "removing: otto_mann\n",
      "removing: troy_mcclure\n",
      "removing: miss_hoover\n",
      "removing: disco_stu\n",
      "removing: agnes_skinner\n"
     ]
    }
   ],
   "source": [
    "count, labels = st.clean_dataset(low_threshold, upper_threshold, LABELS)"
   ]
  },
  {
   "cell_type": "code",
   "execution_count": 9,
   "metadata": {},
   "outputs": [
    {
     "name": "stdout",
     "output_type": "stream",
     "text": [
      "31 31\n"
     ]
    }
   ],
   "source": [
    "print(len(count), len(labels))"
   ]
  },
  {
   "cell_type": "markdown",
   "metadata": {},
   "source": [
    "### Load full dataset"
   ]
  },
  {
   "cell_type": "markdown",
   "metadata": {},
   "source": [
    "In order to feed our model with this dataset, we need an image matrix (an array of images for every label) and an array connecting the indexes from the matrix with the actual label."
   ]
  },
  {
   "cell_type": "code",
   "execution_count": 11,
   "metadata": {},
   "outputs": [],
   "source": [
    "_labels, _images = dsu.build_dataset(labels, count)"
   ]
  },
  {
   "cell_type": "code",
   "execution_count": null,
   "metadata": {},
   "outputs": [],
   "source": [
    "X_train, y_train, X_val, y_val = dsu.split_train_val(_images, _labels)"
   ]
  },
  {
   "cell_type": "markdown",
   "metadata": {},
   "source": [
    "### Test loaded dataset"
   ]
  }
 ],
 "metadata": {
  "kernelspec": {
   "display_name": "Python 3",
   "language": "python",
   "name": "python3"
  },
  "language_info": {
   "codemirror_mode": {
    "name": "ipython",
    "version": 3
   },
   "file_extension": ".py",
   "mimetype": "text/x-python",
   "name": "python",
   "nbconvert_exporter": "python",
   "pygments_lexer": "ipython3",
   "version": "3.7.5"
  }
 },
 "nbformat": 4,
 "nbformat_minor": 4
}
