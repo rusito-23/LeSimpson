{
 "cells": [
  {
   "cell_type": "markdown",
   "metadata": {},
   "source": [
    "# LeSimpson"
   ]
  },
  {
   "cell_type": "markdown",
   "metadata": {},
   "source": [
    "## Intro\n",
    "\n",
    "This proyect aims to train a CNN model for image prediction on Simpsons Characters.\n",
    "Steps to reproduce the notebook:\n",
    "\n",
    "- Create environment: `conda env create`\n",
    "- Activate: `conda activate le-simpson`\n",
    "- Set Kaggle account in `~/.kaggle/kaggle.json`\n",
    "- Start notebook: `jupyter notebook LeSimpson.ipynb`"
   ]
  },
  {
   "cell_type": "markdown",
   "metadata": {},
   "source": [
    "## Load and Pre-Process Dataset\n",
    "\n",
    "First, we need to load the dataset from Kaggle. Then we need to clean a little bit this images, some of the labels do not have enough data to train our model, others have too many and we need to train our model with a nice data quality."
   ]
  },
  {
   "cell_type": "markdown",
   "metadata": {},
   "source": [
    "### Define our paths"
   ]
  },
  {
   "cell_type": "code",
   "execution_count": 10,
   "metadata": {},
   "outputs": [],
   "source": [
    "# PATHS\n",
    "DATASET_PATH = 'the-simpsons-characters-dataset/'\n",
    "TRAINSET_PATH = DATASET_PATH + 'simpsons_dataset/'\n",
    "TESTSET_PATH = DATASET_PATH + 'kaggle_simpson_testset/kaggle_simpson_testset/'"
   ]
  },
  {
   "cell_type": "markdown",
   "metadata": {},
   "source": [
    "### Download and unzip Dataset (if necessary)"
   ]
  },
  {
   "cell_type": "code",
   "execution_count": 11,
   "metadata": {},
   "outputs": [],
   "source": [
    "import os\n",
    "if not (os.path.isdir(DATASET_PATH)):\n",
    "    from kaggle.api.kaggle_api_extended import KaggleApi\n",
    "    \n",
    "    api = KaggleApi()\n",
    "    api.authenticate()\n",
    "    api.dataset_download_files(\"alexattia/the-simpsons-characters-dataset\")\n",
    "    \n",
    "    !!unzip the-simpsons-characters-dataset.zip -d the-simpsons-characters-dataset"
   ]
  },
  {
   "cell_type": "markdown",
   "metadata": {},
   "source": [
    "### Define labels"
   ]
  },
  {
   "cell_type": "code",
   "execution_count": 42,
   "metadata": {},
   "outputs": [
    {
     "name": "stdout",
     "output_type": "stream",
     "text": [
      "['maggie_simpson', 'simpsons_dataset', 'charles_montgomery_burns', 'patty_bouvier', 'ralph_wiggum', 'chief_wiggum', 'milhouse_van_houten', 'rainier_wolfcastle', 'cletus_spuckler', 'martin_prince', 'lenny_leonard', 'sideshow_bob', 'fat_tony', 'selma_bouvier', 'barney_gumble', 'lionel_hutz', 'gil', 'moe_szyslak', 'carl_carlson', 'edna_krabappel', 'snake_jailbird', 'groundskeeper_willie', 'sideshow_mel', 'ned_flanders', 'abraham_grampa_simpson', 'krusty_the_clown', 'waylon_smithers', 'apu_nahasapeemapetilon', 'marge_simpson', 'comic_book_guy', 'nelson_muntz', 'mayor_quimby', 'kent_brockman', 'professor_john_frink', 'principal_skinner', 'bart_simpson', 'lisa_simpson', 'otto_mann', 'troy_mcclure', 'miss_hoover', 'disco_stu', 'homer_simpson', 'agnes_skinner']\n"
     ]
    }
   ],
   "source": [
    "LABELS = os.listdir(TRAINSET_PATH)\n",
    "print(LABELS)"
   ]
  },
  {
   "cell_type": "markdown",
   "metadata": {},
   "source": [
    "### Get stats from our Dataset\n",
    "\n",
    "We need to learn some stats from the Dataset we have, to be able to clean the data and get fresh for the model."
   ]
  },
  {
   "cell_type": "code",
   "execution_count": 46,
   "metadata": {},
   "outputs": [
    {
     "name": "stdout",
     "output_type": "stream",
     "text": [
      "[Mean] -> 487.7906976744186\n",
      "[Std Deviation] -> 567.7693422156381\n",
      "[Stats description] -> DescribeResult(nobs=43, minmax=(3, 2246), mean=487.7906976744186, variance=330037.3122923587, skewness=1.1073543726660533, kurtosis=0.26996059762136726)\n"
     ]
    }
   ],
   "source": [
    "import numpy as np\n",
    "import scipy as sc\n",
    "\n",
    "# Get the image count for every label\n",
    "count = [len(os.listdir(TRAINSET_PATH + l)) for l in LABELS]\n",
    "count = np.array(size_by_label)\n",
    "\n",
    "# Get importants stats from this array\n",
    "mean = np.mean(count)\n",
    "sd = np.std(count)\n",
    "print(\"[Mean] -> {}\".format(mean))\n",
    "print(\"[Std Deviation] -> {}\".format(sd))\n",
    "\n",
    "print(\"[Stats description] -> {}\".format(sc.stats.describe(count)))"
   ]
  },
  {
   "cell_type": "code",
   "execution_count": 57,
   "metadata": {
    "scrolled": true
   },
   "outputs": [
    {
     "data": {
      "image/png": "[encoded data removed]",
      "text/plain": [
       "<Figure size 432x288 with 1 Axes>"
      ]
     },
     "metadata": {
      "needs_background": "light"
     },
     "output_type": "display_data"
    }
   ],
   "source": [
    "import matplotlib.pyplot as plt\n",
    "\n",
    "plt.plot(count)\n",
    "plt.show()"
   ]
  },
  {
   "cell_type": "markdown",
   "metadata": {},
   "source": [
    "### Stats analisis\n",
    "\n",
    "As we can see, we have a very high standard deviation in terms of *image count per label*, this will produce bad results with our data (overfitting for example).\n",
    "\n",
    "In order to clean our dataset and make it more fit for our model, we need to reduce the labels that have too much images, and the ones that don't have enough."
   ]
  },
  {
   "cell_type": "markdown",
   "metadata": {},
   "source": [
    "### Remove extra labels"
   ]
  },
  {
   "cell_type": "code",
   "execution_count": null,
   "metadata": {},
   "outputs": [],
   "source": []
  }
 ],
 "metadata": {
  "kernelspec": {
   "display_name": "Python 3",
   "language": "python",
   "name": "python3"
  },
  "language_info": {
   "codemirror_mode": {
    "name": "ipython",
    "version": 3
   },
   "file_extension": ".py",
   "mimetype": "text/x-python",
   "name": "python",
   "nbconvert_exporter": "python",
   "pygments_lexer": "ipython3",
   "version": "3.7.5"
  }
 },
 "nbformat": 4,
 "nbformat_minor": 2
}
